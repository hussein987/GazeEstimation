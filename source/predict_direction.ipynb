{
  "nbformat": 4,
  "nbformat_minor": 0,
  "metadata": {
    "colab": {
      "name": "predict_direction.ipynb",
      "provenance": [],
      "collapsed_sections": [],
      "authorship_tag": "ABX9TyNzg48LjtMmTP1kQhZed9Vf"
    },
    "kernelspec": {
      "name": "python3",
      "display_name": "Python 3"
    },
    "language_info": {
      "name": "python"
    },
    "accelerator": "GPU"
  },
  "cells": [
    {
      "cell_type": "markdown",
      "metadata": {
        "id": "tQ8Bqysju5kV"
      },
      "source": [
        "# Installation and Setup"
      ]
    },
    {
      "cell_type": "code",
      "metadata": {
        "id": "gG9P13jQpVpn",
        "colab": {
          "base_uri": "https://localhost:8080/"
        },
        "outputId": "71fa013b-8540-4008-8325-0fec9e32c1ed"
      },
      "source": [
        "!wget https://storage.googleapis.com/cloud-tpu-checkpoints/efficientnet/noisystudent/noisy_student_efficientnet-b0.tar.gz"
      ],
      "execution_count": 3,
      "outputs": [
        {
          "output_type": "stream",
          "name": "stdout",
          "text": [
            "--2021-11-25 17:44:08--  https://storage.googleapis.com/cloud-tpu-checkpoints/efficientnet/noisystudent/noisy_student_efficientnet-b0.tar.gz\n",
            "Resolving storage.googleapis.com (storage.googleapis.com)... 173.194.213.128, 173.194.215.128, 173.194.216.128, ...\n",
            "Connecting to storage.googleapis.com (storage.googleapis.com)|173.194.213.128|:443... connected.\n",
            "HTTP request sent, awaiting response... 200 OK\n",
            "Length: 156407520 (149M) [application/octet-stream]\n",
            "Saving to: ‘noisy_student_efficientnet-b0.tar.gz’\n",
            "\n",
            "noisy_student_effic 100%[===================>] 149.16M   121MB/s    in 1.2s    \n",
            "\n",
            "2021-11-25 17:44:10 (121 MB/s) - ‘noisy_student_efficientnet-b0.tar.gz’ saved [156407520/156407520]\n",
            "\n"
          ]
        }
      ]
    },
    {
      "cell_type": "code",
      "metadata": {
        "id": "VnfT1bG4tsqv"
      },
      "source": [
        "!tar -xf noisy_student_efficientnet-b0.tar.gz"
      ],
      "execution_count": 4,
      "outputs": []
    },
    {
      "cell_type": "code",
      "metadata": {
        "id": "fWx73SDNtx0i",
        "colab": {
          "base_uri": "https://localhost:8080/"
        },
        "outputId": "9fa824b5-5914-40c0-b07d-6e965ff244d3"
      },
      "source": [
        "!python efficientnet_weight_update_util.py --model b0 --notop --ckpt noisy_student_efficientnet-b0/model.ckpt --o efficientnetb0_notop.h5"
      ],
      "execution_count": 5,
      "outputs": [
        {
          "output_type": "stream",
          "name": "stdout",
          "text": [
            "2021-11-25 17:44:44.899072: W tensorflow/core/common_runtime/gpu/gpu_bfc_allocator.cc:39] Overriding allow_growth setting because the TF_FORCE_GPU_ALLOW_GROWTH environment variable is set. Original config value was 0.\n",
            "Downloading data from https://storage.googleapis.com/keras-applications/efficientnetb0_notop.h5\n",
            "16711680/16705208 [==============================] - 0s 0us/step\n",
            "16719872/16705208 [==============================] - 0s 0us/step\n",
            "check variables match in each block\n",
            "blocks_0 and block1a match.\n",
            "blocks_1 and block2a match.\n",
            "blocks_2 and block2b match.\n",
            "blocks_3 and block3a match.\n",
            "blocks_4 and block3b match.\n",
            "blocks_5 and block4a match.\n",
            "blocks_6 and block4b match.\n",
            "blocks_7 and block4c match.\n",
            "blocks_8 and block5a match.\n",
            "blocks_9 and block5b match.\n",
            "blocks_10 and block5c match.\n",
            "blocks_11 and block6a match.\n",
            "blocks_12 and block6b match.\n",
            "blocks_13 and block6c match.\n",
            "blocks_14 and block6d match.\n",
            "blocks_15 and block7a match.\n",
            "skipping variable normalization/mean:0: normalization is a layerin keras implementation, but preprocessing in TF implementation.\n",
            "skipping variable normalization/variance:0: normalization is a layerin keras implementation, but preprocessing in TF implementation.\n",
            "skipping variable normalization/count:0: normalization is a layerin keras implementation, but preprocessing in TF implementation.\n",
            "309/312 weights updated\n"
          ]
        }
      ]
    },
    {
      "cell_type": "code",
      "metadata": {
        "colab": {
          "base_uri": "https://localhost:8080/"
        },
        "id": "JXOGxusTvYRP",
        "outputId": "d5cce94e-bff5-4e67-c28d-d5de8dfc3224"
      },
      "source": [
        "!pip install tensorflow-addons"
      ],
      "execution_count": 6,
      "outputs": [
        {
          "output_type": "stream",
          "name": "stdout",
          "text": [
            "Collecting tensorflow-addons\n",
            "  Downloading tensorflow_addons-0.15.0-cp37-cp37m-manylinux_2_12_x86_64.manylinux2010_x86_64.whl (1.1 MB)\n",
            "\u001b[?25l\r\u001b[K     |▎                               | 10 kB 26.3 MB/s eta 0:00:01\r\u001b[K     |▋                               | 20 kB 18.4 MB/s eta 0:00:01\r\u001b[K     |▉                               | 30 kB 10.7 MB/s eta 0:00:01\r\u001b[K     |█▏                              | 40 kB 8.7 MB/s eta 0:00:01\r\u001b[K     |█▌                              | 51 kB 4.9 MB/s eta 0:00:01\r\u001b[K     |█▊                              | 61 kB 5.2 MB/s eta 0:00:01\r\u001b[K     |██                              | 71 kB 5.6 MB/s eta 0:00:01\r\u001b[K     |██▍                             | 81 kB 5.6 MB/s eta 0:00:01\r\u001b[K     |██▋                             | 92 kB 4.6 MB/s eta 0:00:01\r\u001b[K     |███                             | 102 kB 5.1 MB/s eta 0:00:01\r\u001b[K     |███▎                            | 112 kB 5.1 MB/s eta 0:00:01\r\u001b[K     |███▌                            | 122 kB 5.1 MB/s eta 0:00:01\r\u001b[K     |███▉                            | 133 kB 5.1 MB/s eta 0:00:01\r\u001b[K     |████▏                           | 143 kB 5.1 MB/s eta 0:00:01\r\u001b[K     |████▍                           | 153 kB 5.1 MB/s eta 0:00:01\r\u001b[K     |████▊                           | 163 kB 5.1 MB/s eta 0:00:01\r\u001b[K     |█████                           | 174 kB 5.1 MB/s eta 0:00:01\r\u001b[K     |█████▎                          | 184 kB 5.1 MB/s eta 0:00:01\r\u001b[K     |█████▋                          | 194 kB 5.1 MB/s eta 0:00:01\r\u001b[K     |█████▉                          | 204 kB 5.1 MB/s eta 0:00:01\r\u001b[K     |██████▏                         | 215 kB 5.1 MB/s eta 0:00:01\r\u001b[K     |██████▌                         | 225 kB 5.1 MB/s eta 0:00:01\r\u001b[K     |██████▊                         | 235 kB 5.1 MB/s eta 0:00:01\r\u001b[K     |███████                         | 245 kB 5.1 MB/s eta 0:00:01\r\u001b[K     |███████▍                        | 256 kB 5.1 MB/s eta 0:00:01\r\u001b[K     |███████▋                        | 266 kB 5.1 MB/s eta 0:00:01\r\u001b[K     |████████                        | 276 kB 5.1 MB/s eta 0:00:01\r\u001b[K     |████████▎                       | 286 kB 5.1 MB/s eta 0:00:01\r\u001b[K     |████████▌                       | 296 kB 5.1 MB/s eta 0:00:01\r\u001b[K     |████████▉                       | 307 kB 5.1 MB/s eta 0:00:01\r\u001b[K     |█████████                       | 317 kB 5.1 MB/s eta 0:00:01\r\u001b[K     |█████████▍                      | 327 kB 5.1 MB/s eta 0:00:01\r\u001b[K     |█████████▊                      | 337 kB 5.1 MB/s eta 0:00:01\r\u001b[K     |██████████                      | 348 kB 5.1 MB/s eta 0:00:01\r\u001b[K     |██████████▎                     | 358 kB 5.1 MB/s eta 0:00:01\r\u001b[K     |██████████▋                     | 368 kB 5.1 MB/s eta 0:00:01\r\u001b[K     |██████████▉                     | 378 kB 5.1 MB/s eta 0:00:01\r\u001b[K     |███████████▏                    | 389 kB 5.1 MB/s eta 0:00:01\r\u001b[K     |███████████▌                    | 399 kB 5.1 MB/s eta 0:00:01\r\u001b[K     |███████████▊                    | 409 kB 5.1 MB/s eta 0:00:01\r\u001b[K     |████████████                    | 419 kB 5.1 MB/s eta 0:00:01\r\u001b[K     |████████████▍                   | 430 kB 5.1 MB/s eta 0:00:01\r\u001b[K     |████████████▋                   | 440 kB 5.1 MB/s eta 0:00:01\r\u001b[K     |█████████████                   | 450 kB 5.1 MB/s eta 0:00:01\r\u001b[K     |█████████████▎                  | 460 kB 5.1 MB/s eta 0:00:01\r\u001b[K     |█████████████▌                  | 471 kB 5.1 MB/s eta 0:00:01\r\u001b[K     |█████████████▉                  | 481 kB 5.1 MB/s eta 0:00:01\r\u001b[K     |██████████████                  | 491 kB 5.1 MB/s eta 0:00:01\r\u001b[K     |██████████████▍                 | 501 kB 5.1 MB/s eta 0:00:01\r\u001b[K     |██████████████▊                 | 512 kB 5.1 MB/s eta 0:00:01\r\u001b[K     |███████████████                 | 522 kB 5.1 MB/s eta 0:00:01\r\u001b[K     |███████████████▎                | 532 kB 5.1 MB/s eta 0:00:01\r\u001b[K     |███████████████▋                | 542 kB 5.1 MB/s eta 0:00:01\r\u001b[K     |███████████████▉                | 552 kB 5.1 MB/s eta 0:00:01\r\u001b[K     |████████████████▏               | 563 kB 5.1 MB/s eta 0:00:01\r\u001b[K     |████████████████▌               | 573 kB 5.1 MB/s eta 0:00:01\r\u001b[K     |████████████████▊               | 583 kB 5.1 MB/s eta 0:00:01\r\u001b[K     |█████████████████               | 593 kB 5.1 MB/s eta 0:00:01\r\u001b[K     |█████████████████▍              | 604 kB 5.1 MB/s eta 0:00:01\r\u001b[K     |█████████████████▋              | 614 kB 5.1 MB/s eta 0:00:01\r\u001b[K     |██████████████████              | 624 kB 5.1 MB/s eta 0:00:01\r\u001b[K     |██████████████████▏             | 634 kB 5.1 MB/s eta 0:00:01\r\u001b[K     |██████████████████▌             | 645 kB 5.1 MB/s eta 0:00:01\r\u001b[K     |██████████████████▉             | 655 kB 5.1 MB/s eta 0:00:01\r\u001b[K     |███████████████████             | 665 kB 5.1 MB/s eta 0:00:01\r\u001b[K     |███████████████████▍            | 675 kB 5.1 MB/s eta 0:00:01\r\u001b[K     |███████████████████▊            | 686 kB 5.1 MB/s eta 0:00:01\r\u001b[K     |████████████████████            | 696 kB 5.1 MB/s eta 0:00:01\r\u001b[K     |████████████████████▎           | 706 kB 5.1 MB/s eta 0:00:01\r\u001b[K     |████████████████████▋           | 716 kB 5.1 MB/s eta 0:00:01\r\u001b[K     |████████████████████▉           | 727 kB 5.1 MB/s eta 0:00:01\r\u001b[K     |█████████████████████▏          | 737 kB 5.1 MB/s eta 0:00:01\r\u001b[K     |█████████████████████▌          | 747 kB 5.1 MB/s eta 0:00:01\r\u001b[K     |█████████████████████▊          | 757 kB 5.1 MB/s eta 0:00:01\r\u001b[K     |██████████████████████          | 768 kB 5.1 MB/s eta 0:00:01\r\u001b[K     |██████████████████████▎         | 778 kB 5.1 MB/s eta 0:00:01\r\u001b[K     |██████████████████████▋         | 788 kB 5.1 MB/s eta 0:00:01\r\u001b[K     |███████████████████████         | 798 kB 5.1 MB/s eta 0:00:01\r\u001b[K     |███████████████████████▏        | 808 kB 5.1 MB/s eta 0:00:01\r\u001b[K     |███████████████████████▌        | 819 kB 5.1 MB/s eta 0:00:01\r\u001b[K     |███████████████████████▉        | 829 kB 5.1 MB/s eta 0:00:01\r\u001b[K     |████████████████████████        | 839 kB 5.1 MB/s eta 0:00:01\r\u001b[K     |████████████████████████▍       | 849 kB 5.1 MB/s eta 0:00:01\r\u001b[K     |████████████████████████▊       | 860 kB 5.1 MB/s eta 0:00:01\r\u001b[K     |█████████████████████████       | 870 kB 5.1 MB/s eta 0:00:01\r\u001b[K     |█████████████████████████▎      | 880 kB 5.1 MB/s eta 0:00:01\r\u001b[K     |█████████████████████████▋      | 890 kB 5.1 MB/s eta 0:00:01\r\u001b[K     |█████████████████████████▉      | 901 kB 5.1 MB/s eta 0:00:01\r\u001b[K     |██████████████████████████▏     | 911 kB 5.1 MB/s eta 0:00:01\r\u001b[K     |██████████████████████████▌     | 921 kB 5.1 MB/s eta 0:00:01\r\u001b[K     |██████████████████████████▊     | 931 kB 5.1 MB/s eta 0:00:01\r\u001b[K     |███████████████████████████     | 942 kB 5.1 MB/s eta 0:00:01\r\u001b[K     |███████████████████████████▎    | 952 kB 5.1 MB/s eta 0:00:01\r\u001b[K     |███████████████████████████▋    | 962 kB 5.1 MB/s eta 0:00:01\r\u001b[K     |████████████████████████████    | 972 kB 5.1 MB/s eta 0:00:01\r\u001b[K     |████████████████████████████▏   | 983 kB 5.1 MB/s eta 0:00:01\r\u001b[K     |████████████████████████████▌   | 993 kB 5.1 MB/s eta 0:00:01\r\u001b[K     |████████████████████████████▉   | 1.0 MB 5.1 MB/s eta 0:00:01\r\u001b[K     |█████████████████████████████   | 1.0 MB 5.1 MB/s eta 0:00:01\r\u001b[K     |█████████████████████████████▍  | 1.0 MB 5.1 MB/s eta 0:00:01\r\u001b[K     |█████████████████████████████▊  | 1.0 MB 5.1 MB/s eta 0:00:01\r\u001b[K     |██████████████████████████████  | 1.0 MB 5.1 MB/s eta 0:00:01\r\u001b[K     |██████████████████████████████▎ | 1.1 MB 5.1 MB/s eta 0:00:01\r\u001b[K     |██████████████████████████████▋ | 1.1 MB 5.1 MB/s eta 0:00:01\r\u001b[K     |██████████████████████████████▉ | 1.1 MB 5.1 MB/s eta 0:00:01\r\u001b[K     |███████████████████████████████▏| 1.1 MB 5.1 MB/s eta 0:00:01\r\u001b[K     |███████████████████████████████▍| 1.1 MB 5.1 MB/s eta 0:00:01\r\u001b[K     |███████████████████████████████▊| 1.1 MB 5.1 MB/s eta 0:00:01\r\u001b[K     |████████████████████████████████| 1.1 MB 5.1 MB/s \n",
            "\u001b[?25hRequirement already satisfied: typeguard>=2.7 in /usr/local/lib/python3.7/dist-packages (from tensorflow-addons) (2.7.1)\n",
            "Installing collected packages: tensorflow-addons\n",
            "Successfully installed tensorflow-addons-0.15.0\n"
          ]
        }
      ]
    },
    {
      "cell_type": "markdown",
      "metadata": {
        "id": "2-2tZVEdwb4O"
      },
      "source": [
        "# Data Preparation"
      ]
    },
    {
      "cell_type": "code",
      "metadata": {
        "id": "KTk8f2XVNjyt"
      },
      "source": [
        "import shutil\n",
        "import os\n",
        "import pandas as pd\n",
        "\n",
        "shutil.rmtree('data')"
      ],
      "execution_count": 30,
      "outputs": []
    },
    {
      "cell_type": "code",
      "metadata": {
        "id": "Dih9avcIeF-W"
      },
      "source": [
        "os.mkdir('data')"
      ],
      "execution_count": 31,
      "outputs": []
    },
    {
      "cell_type": "code",
      "metadata": {
        "id": "4k7MXEy4Nzyc"
      },
      "source": [
        "!unrar x imgs.rar data"
      ],
      "execution_count": null,
      "outputs": []
    },
    {
      "cell_type": "code",
      "metadata": {
        "id": "X5rOt50Vwew4"
      },
      "source": [
        "from os import listdir\n",
        "from os.path import isfile, join\n",
        "\n",
        "data_path = 'data/'\n",
        "json_files = json_files = [pos_json for pos_json in listdir(data_path) if pos_json.endswith('.json')]"
      ],
      "execution_count": 37,
      "outputs": []
    },
    {
      "cell_type": "code",
      "metadata": {
        "id": "rOnIk_j0C0qm"
      },
      "source": [
        "import json\n",
        "df = pd.DataFrame(columns=['image_location', 'point1', 'point2'])\n",
        "\n",
        "for json_file in json_files:\n",
        "  with open(data_path+json_file) as jf:\n",
        "      d = json.load(jf)\n",
        "      arr = list(eval(d['eye_details']['look_vec']))\n",
        "      df = df.append({'image_location': data_path+json_file.split('.')[0]+'.jpg', 'point1': arr[0], 'point2': arr[1]}, ignore_index=True)"
      ],
      "execution_count": 38,
      "outputs": []
    },
    {
      "cell_type": "code",
      "metadata": {
        "colab": {
          "base_uri": "https://localhost:8080/",
          "height": 423
        },
        "id": "Qf0B8Tp9ExWr",
        "outputId": "f073e766-262c-4cd0-a078-fc5a8de71010"
      },
      "source": [
        "df"
      ],
      "execution_count": 39,
      "outputs": [
        {
          "output_type": "execute_result",
          "data": {
            "text/html": [
              "<div>\n",
              "<style scoped>\n",
              "    .dataframe tbody tr th:only-of-type {\n",
              "        vertical-align: middle;\n",
              "    }\n",
              "\n",
              "    .dataframe tbody tr th {\n",
              "        vertical-align: top;\n",
              "    }\n",
              "\n",
              "    .dataframe thead th {\n",
              "        text-align: right;\n",
              "    }\n",
              "</style>\n",
              "<table border=\"1\" class=\"dataframe\">\n",
              "  <thead>\n",
              "    <tr style=\"text-align: right;\">\n",
              "      <th></th>\n",
              "      <th>image_location</th>\n",
              "      <th>point1</th>\n",
              "      <th>point2</th>\n",
              "    </tr>\n",
              "  </thead>\n",
              "  <tbody>\n",
              "    <tr>\n",
              "      <th>0</th>\n",
              "      <td>data/598.jpg</td>\n",
              "      <td>-0.7805</td>\n",
              "      <td>0.0377</td>\n",
              "    </tr>\n",
              "    <tr>\n",
              "      <th>1</th>\n",
              "      <td>data/958.jpg</td>\n",
              "      <td>-0.6229</td>\n",
              "      <td>0.0473</td>\n",
              "    </tr>\n",
              "    <tr>\n",
              "      <th>2</th>\n",
              "      <td>data/375.jpg</td>\n",
              "      <td>0.1197</td>\n",
              "      <td>0.0998</td>\n",
              "    </tr>\n",
              "    <tr>\n",
              "      <th>3</th>\n",
              "      <td>data/499.jpg</td>\n",
              "      <td>0.0287</td>\n",
              "      <td>0.5053</td>\n",
              "    </tr>\n",
              "    <tr>\n",
              "      <th>4</th>\n",
              "      <td>data/84.jpg</td>\n",
              "      <td>0.7551</td>\n",
              "      <td>-0.1027</td>\n",
              "    </tr>\n",
              "    <tr>\n",
              "      <th>...</th>\n",
              "      <td>...</td>\n",
              "      <td>...</td>\n",
              "      <td>...</td>\n",
              "    </tr>\n",
              "    <tr>\n",
              "      <th>1153</th>\n",
              "      <td>data/1035.jpg</td>\n",
              "      <td>0.1715</td>\n",
              "      <td>-0.3533</td>\n",
              "    </tr>\n",
              "    <tr>\n",
              "      <th>1154</th>\n",
              "      <td>data/453.jpg</td>\n",
              "      <td>-0.3691</td>\n",
              "      <td>-0.6516</td>\n",
              "    </tr>\n",
              "    <tr>\n",
              "      <th>1155</th>\n",
              "      <td>data/143.jpg</td>\n",
              "      <td>0.2598</td>\n",
              "      <td>-0.4299</td>\n",
              "    </tr>\n",
              "    <tr>\n",
              "      <th>1156</th>\n",
              "      <td>data/254.jpg</td>\n",
              "      <td>-0.6817</td>\n",
              "      <td>0.1830</td>\n",
              "    </tr>\n",
              "    <tr>\n",
              "      <th>1157</th>\n",
              "      <td>data/427.jpg</td>\n",
              "      <td>-0.2987</td>\n",
              "      <td>-0.2339</td>\n",
              "    </tr>\n",
              "  </tbody>\n",
              "</table>\n",
              "<p>1158 rows × 3 columns</p>\n",
              "</div>"
            ],
            "text/plain": [
              "     image_location  point1  point2\n",
              "0      data/598.jpg -0.7805  0.0377\n",
              "1      data/958.jpg -0.6229  0.0473\n",
              "2      data/375.jpg  0.1197  0.0998\n",
              "3      data/499.jpg  0.0287  0.5053\n",
              "4       data/84.jpg  0.7551 -0.1027\n",
              "...             ...     ...     ...\n",
              "1153  data/1035.jpg  0.1715 -0.3533\n",
              "1154   data/453.jpg -0.3691 -0.6516\n",
              "1155   data/143.jpg  0.2598 -0.4299\n",
              "1156   data/254.jpg -0.6817  0.1830\n",
              "1157   data/427.jpg -0.2987 -0.2339\n",
              "\n",
              "[1158 rows x 3 columns]"
            ]
          },
          "metadata": {},
          "execution_count": 39
        }
      ]
    },
    {
      "cell_type": "code",
      "metadata": {
        "colab": {
          "base_uri": "https://localhost:8080/",
          "height": 81
        },
        "id": "Pgtoe5ADejHO",
        "outputId": "7c67f949-cbd2-4931-bd3b-7c4eb410a8e5"
      },
      "source": [
        "df.loc[df['image_location'] == 'data/1.jpg']"
      ],
      "execution_count": 128,
      "outputs": [
        {
          "output_type": "execute_result",
          "data": {
            "text/html": [
              "<div>\n",
              "<style scoped>\n",
              "    .dataframe tbody tr th:only-of-type {\n",
              "        vertical-align: middle;\n",
              "    }\n",
              "\n",
              "    .dataframe tbody tr th {\n",
              "        vertical-align: top;\n",
              "    }\n",
              "\n",
              "    .dataframe thead th {\n",
              "        text-align: right;\n",
              "    }\n",
              "</style>\n",
              "<table border=\"1\" class=\"dataframe\">\n",
              "  <thead>\n",
              "    <tr style=\"text-align: right;\">\n",
              "      <th></th>\n",
              "      <th>image_location</th>\n",
              "      <th>point1</th>\n",
              "      <th>point2</th>\n",
              "    </tr>\n",
              "  </thead>\n",
              "  <tbody>\n",
              "    <tr>\n",
              "      <th>531</th>\n",
              "      <td>data/1.jpg</td>\n",
              "      <td>0.2857</td>\n",
              "      <td>0.1601</td>\n",
              "    </tr>\n",
              "  </tbody>\n",
              "</table>\n",
              "</div>"
            ],
            "text/plain": [
              "    image_location  point1  point2\n",
              "531     data/1.jpg  0.2857  0.1601"
            ]
          },
          "metadata": {},
          "execution_count": 128
        }
      ]
    },
    {
      "cell_type": "markdown",
      "metadata": {
        "id": "E9mPJLSbxGfE"
      },
      "source": [
        "# Main"
      ]
    },
    {
      "cell_type": "code",
      "metadata": {
        "id": "yoaNgOx9xIW2"
      },
      "source": [
        "# General libraries\n",
        "import pandas as pd  #For working with dataframes\n",
        "import numpy as np   #For working with image arrays\n",
        "import cv2          #For transforming image\n",
        "import matplotlib.pyplot as plt  #For representation\n",
        "#For model building\n",
        "import torch\n",
        "from torch import nn, optim\n",
        "import torchvision\n",
        "from torchvision import datasets, models, utils\n",
        "import torchvision.transforms as T\n",
        "from torch.utils.data import Dataset, DataLoader \n",
        "from PIL import Image\n",
        "from torch.utils.data import random_split\n",
        "from torch.nn import functional as F\n",
        "from skimage import io, transform\n",
        "from torch.optim import lr_scheduler\n",
        "from skimage.transform import AffineTransform, warp\n",
        "import numpy as np"
      ],
      "execution_count": 40,
      "outputs": []
    },
    {
      "cell_type": "code",
      "metadata": {
        "id": "BbbWP1Gfz_Yr"
      },
      "source": [
        "class MyData(Dataset):\n",
        "    def __init__(self, df, transforms=None):      \n",
        "        self.df = df\n",
        "        self.transforms = transforms\n",
        "        \n",
        "    def __len__(self):\n",
        "        return len(self.df)\n",
        "    \n",
        "    def __getitem__(self, idx):\n",
        "        image_location = self.df['image_location'].iloc[idx]\n",
        "        img = Image.open(image_location).convert(\"RGB\")\n",
        "\n",
        "        label1 = self.df['point1'].iloc[idx]\n",
        "        label2 = self.df['point2'].iloc[idx]\n",
        "        label1 = torch.as_tensor(label1, dtype=torch.float32)\n",
        "        label2 = torch.as_tensor(label2, dtype=torch.float32)\n",
        "        target = {}\n",
        "        target['point1'] = label1\n",
        "        target['point2'] = label2\n",
        "        \n",
        "        if self.transforms is not None:\n",
        "            img = self.transforms(img)\n",
        "            \n",
        "        return img, label1, label2"
      ],
      "execution_count": 41,
      "outputs": []
    },
    {
      "cell_type": "code",
      "metadata": {
        "id": "y0k59I_5G1yI"
      },
      "source": [
        "transforms = T.Compose([\n",
        "    T.Resize((128, 128)),\n",
        "    T.ToTensor()\n",
        "])"
      ],
      "execution_count": 42,
      "outputs": []
    },
    {
      "cell_type": "code",
      "metadata": {
        "id": "TeoeWdlmZerq"
      },
      "source": [
        "dataset = MyData(df, transforms=transforms)"
      ],
      "execution_count": 43,
      "outputs": []
    },
    {
      "cell_type": "code",
      "metadata": {
        "colab": {
          "base_uri": "https://localhost:8080/"
        },
        "id": "5yV2q6lDaCUN",
        "outputId": "0051415a-d7d0-43aa-8b78-a480ee29b072"
      },
      "source": [
        "val_size = int(0.1*len(dataset))\n",
        "train_size = len(dataset) - val_size\n",
        "\n",
        "train_ds, val_ds = random_split(dataset, [train_size, val_size])\n",
        "len(train_ds), len(val_ds)"
      ],
      "execution_count": 44,
      "outputs": [
        {
          "output_type": "execute_result",
          "data": {
            "text/plain": [
              "(1043, 115)"
            ]
          },
          "metadata": {},
          "execution_count": 44
        }
      ]
    },
    {
      "cell_type": "code",
      "metadata": {
        "colab": {
          "base_uri": "https://localhost:8080/"
        },
        "id": "yoKdnO89HPz1",
        "outputId": "65fe3f40-27c1-4c37-ac95-6c44d2185e69"
      },
      "source": [
        "train_dl = DataLoader(train_ds, batch_size=8, shuffle=True, num_workers=4)\n",
        "val_dl = DataLoader(val_ds, batch_size=8, shuffle=True, num_workers=4)"
      ],
      "execution_count": 45,
      "outputs": [
        {
          "output_type": "stream",
          "name": "stderr",
          "text": [
            "/usr/local/lib/python3.7/dist-packages/torch/utils/data/dataloader.py:481: UserWarning: This DataLoader will create 4 worker processes in total. Our suggested max number of worker in current system is 2, which is smaller than what this DataLoader is going to create. Please be aware that excessive worker creation might get DataLoader running slow or even freeze, lower the worker number to avoid potential slowness/freeze if necessary.\n",
            "  cpuset_checked))\n"
          ]
        }
      ]
    },
    {
      "cell_type": "code",
      "metadata": {
        "colab": {
          "base_uri": "https://localhost:8080/"
        },
        "id": "VlTSwJAYf9kF",
        "outputId": "74f0f7a3-b740-4ff7-97fc-f066653ea969"
      },
      "source": [
        "for sample in train_dl:\n",
        "  imgs, label1, label2 = sample\n",
        "  # print(imgs)\n",
        "  print(label1)\n",
        "  break"
      ],
      "execution_count": 185,
      "outputs": [
        {
          "output_type": "stream",
          "name": "stderr",
          "text": [
            "/usr/local/lib/python3.7/dist-packages/torch/utils/data/dataloader.py:481: UserWarning: This DataLoader will create 4 worker processes in total. Our suggested max number of worker in current system is 2, which is smaller than what this DataLoader is going to create. Please be aware that excessive worker creation might get DataLoader running slow or even freeze, lower the worker number to avoid potential slowness/freeze if necessary.\n",
            "  cpuset_checked))\n"
          ]
        },
        {
          "output_type": "stream",
          "name": "stdout",
          "text": [
            "tensor([-0.0203,  0.1610, -0.1573, -0.3035,  0.4969,  0.0796, -0.7217, -0.0651])\n"
          ]
        }
      ]
    },
    {
      "cell_type": "code",
      "metadata": {
        "id": "Bubfix6Qbghc"
      },
      "source": [
        "class ImageClassificationBase(nn.Module):\n",
        "    def training_step(self, batch):\n",
        "        images, labels1, labels2 = batch \n",
        "        outs = self(images)\n",
        "        # print(\"1\", labels1)\n",
        "        # print(\"2\", outs['label1'])\n",
        "        loss1 = F.mse_loss(outs['label1'], labels1)\n",
        "        loss2 = F.mse_loss(outs['label2'], labels2)\n",
        "        loss = loss1 + loss2\n",
        "        return loss\n",
        "    \n",
        "    def validation_step(self, batch):\n",
        "        images, labels1, labels2 = batch \n",
        "        outs = self(images)\n",
        "        loss1 = F.mse_loss(outs['label1'], labels1)\n",
        "        loss2 = F.mse_loss(outs['label2'], labels2)\n",
        "        loss = loss1 + loss2\n",
        "        # acc = accuracy(outs, labels1, labels2)           # Calculate accuracy\n",
        "        return {'val_loss': loss.detach()}\n",
        "        \n",
        "    def validation_epoch_end(self, outputs):\n",
        "        batch_losses = [x['val_loss'] for x in outputs]\n",
        "        epoch_loss = torch.stack(batch_losses).mean()   # Combine losses\n",
        "        return {'val_loss': epoch_loss.item()}\n",
        "    \n",
        "    def epoch_end(self, epoch, result):\n",
        "        print(\"Epoch [{}], train_loss: {:.4f}, val_loss: {:.4f}\".format(\n",
        "            epoch, result['train_loss'], result['val_loss']))\n",
        "        \n",
        "# def accuracy(outs, labels1, labels2):\n",
        "#     _, preds = torch.max(outputs, dim=1)\n",
        "#     return torch.tensor(torch.sum(preds == labels).item() / len(preds))"
      ],
      "execution_count": 59,
      "outputs": []
    },
    {
      "cell_type": "code",
      "metadata": {
        "id": "8nyodM-xIQ0i"
      },
      "source": [
        "class CNN1(ImageClassificationBase):\n",
        "    def __init__(self):\n",
        "        super(CNN1, self).__init__()\n",
        "        self.model = models.efficientnet_b0(pretrained=True)\n",
        "        self.fc1 = nn.Linear(1280, 1)  #For age class\n",
        "        self.fc2 = nn.Linear(1280, 1)    #For gender class\n",
        "        \n",
        "    def forward(self, x):\n",
        "        bs, _, _, _ = x.shape\n",
        "        x = self.model.features(x)\n",
        "        x = F.adaptive_avg_pool2d(x, 1).reshape(bs, -1)\n",
        "        label1 = self.fc1(x)\n",
        "        label1 = torch.reshape(label1, (1, -1))\n",
        "        label2 = self.fc2(x)\n",
        "        label2 = torch.reshape(label2, (1, -1))\n",
        "        return {'label1': label1[0], 'label2': label2[0]}"
      ],
      "execution_count": 60,
      "outputs": []
    },
    {
      "cell_type": "code",
      "metadata": {
        "id": "Q3HKoZweboGn"
      },
      "source": [
        "def get_default_device():\n",
        "    \"\"\"Pick GPU if available, else CPU\"\"\"\n",
        "    if torch.cuda.is_available():\n",
        "        return torch.device('cuda')\n",
        "    else:\n",
        "        return torch.device('cpu')\n",
        "    \n",
        "def to_device(data, device):\n",
        "    \"\"\"Move tensor(s) to chosen device\"\"\"\n",
        "    if isinstance(data, (list,tuple)):\n",
        "        return [to_device(x, device) for x in data]\n",
        "    return data.to(device, non_blocking=True)\n",
        "\n",
        "class DeviceDataLoader():\n",
        "    \"\"\"Wrap a dataloader to move data to a device\"\"\"\n",
        "    def __init__(self, dl, device):\n",
        "        self.dl = dl\n",
        "        self.device = device\n",
        "        \n",
        "    def __iter__(self):\n",
        "        \"\"\"Yield a batch of data after moving it to device\"\"\"\n",
        "        for b in self.dl: \n",
        "            yield to_device(b, self.device)\n",
        "\n",
        "    def __len__(self):\n",
        "        \"\"\"Number of batches\"\"\"\n",
        "        return len(self.dl)"
      ],
      "execution_count": 48,
      "outputs": []
    },
    {
      "cell_type": "code",
      "metadata": {
        "colab": {
          "base_uri": "https://localhost:8080/"
        },
        "id": "lT--6XnqeGe-",
        "outputId": "5220aa66-6136-46c2-fd3c-95f7cac66502"
      },
      "source": [
        "device = get_default_device()\n",
        "device"
      ],
      "execution_count": 49,
      "outputs": [
        {
          "output_type": "execute_result",
          "data": {
            "text/plain": [
              "device(type='cuda')"
            ]
          },
          "metadata": {},
          "execution_count": 49
        }
      ]
    },
    {
      "cell_type": "code",
      "metadata": {
        "id": "VTqSQck8brwY"
      },
      "source": [
        "train_dl = DeviceDataLoader(train_dl, device)\n",
        "val_dl = DeviceDataLoader(val_dl, device)"
      ],
      "execution_count": 50,
      "outputs": []
    },
    {
      "cell_type": "code",
      "metadata": {
        "id": "cwjKdjCCbuJ2"
      },
      "source": [
        "@torch.no_grad()\n",
        "def evaluate(model, val_loader):\n",
        "    model.eval()\n",
        "    outputs = [model.validation_step(batch) for batch in val_loader]\n",
        "    return model.validation_epoch_end(outputs)\n",
        "\n",
        "def fit(epochs, lr, model, train_loader, val_loader, opt_func=torch.optim.SGD):\n",
        "    history = []\n",
        "    optimizer = opt_func(model.parameters(), lr)\n",
        "    for epoch in range(epochs):\n",
        "        # Training Phase \n",
        "        model.train()\n",
        "        train_losses = []\n",
        "        for batch in train_loader:\n",
        "            loss = model.training_step(batch)\n",
        "            train_losses.append(loss)\n",
        "            loss.backward()\n",
        "            optimizer.step()\n",
        "            optimizer.zero_grad()\n",
        "        # Validation phase\n",
        "        result = evaluate(model, val_loader)\n",
        "        result['train_loss'] = torch.stack(train_losses).mean().item()\n",
        "        model.epoch_end(epoch, result)\n",
        "        history.append(result)\n",
        "    return history"
      ],
      "execution_count": 51,
      "outputs": []
    },
    {
      "cell_type": "code",
      "metadata": {
        "colab": {
          "base_uri": "https://localhost:8080/"
        },
        "id": "-0yVE_aGzgqK",
        "outputId": "61d76bec-4e9a-4cc2-b2dc-a71185e6c3c5"
      },
      "source": [
        "l = torch.nn.MSELoss([1, 2, 3], [1, 2, 4])\n",
        "l"
      ],
      "execution_count": 134,
      "outputs": [
        {
          "output_type": "stream",
          "name": "stderr",
          "text": [
            "/usr/local/lib/python3.7/dist-packages/torch/nn/_reduction.py:42: UserWarning: size_average and reduce args will be deprecated, please use reduction='mean' instead.\n",
            "  warnings.warn(warning.format(ret))\n"
          ]
        },
        {
          "output_type": "execute_result",
          "data": {
            "text/plain": [
              "MSELoss()"
            ]
          },
          "metadata": {},
          "execution_count": 134
        }
      ]
    },
    {
      "cell_type": "code",
      "metadata": {
        "id": "-_nTrVynbzmq"
      },
      "source": [
        "model = to_device(CNN1(), device)"
      ],
      "execution_count": 61,
      "outputs": []
    },
    {
      "cell_type": "code",
      "metadata": {
        "colab": {
          "base_uri": "https://localhost:8080/"
        },
        "id": "F6v2xBym0eg8",
        "outputId": "f15138a3-c390-42c1-fced-a1133ea0caaa"
      },
      "source": [
        "for sample in train_dl:\n",
        "  imgs, label1, label2 = sample\n",
        "  outs = model(imgs)\n",
        "  print(outs['label1'])\n",
        "  break"
      ],
      "execution_count": 193,
      "outputs": [
        {
          "output_type": "stream",
          "name": "stderr",
          "text": [
            "/usr/local/lib/python3.7/dist-packages/torch/utils/data/dataloader.py:481: UserWarning: This DataLoader will create 4 worker processes in total. Our suggested max number of worker in current system is 2, which is smaller than what this DataLoader is going to create. Please be aware that excessive worker creation might get DataLoader running slow or even freeze, lower the worker number to avoid potential slowness/freeze if necessary.\n",
            "  cpuset_checked))\n"
          ]
        },
        {
          "output_type": "stream",
          "name": "stdout",
          "text": [
            "tensor([-0.3687, -0.4188,  0.1919, -0.2622, -0.0662,  0.0890, -0.1475,  0.0291],\n",
            "       device='cuda:0', grad_fn=<SelectBackward0>)\n"
          ]
        }
      ]
    },
    {
      "cell_type": "code",
      "metadata": {
        "id": "vFP5V8pPb1Aa"
      },
      "source": [
        "num_epochs = 5\n",
        "opt_func = torch.optim.Adam\n",
        "lr = 0.001"
      ],
      "execution_count": 53,
      "outputs": []
    },
    {
      "cell_type": "code",
      "metadata": {
        "colab": {
          "base_uri": "https://localhost:8080/"
        },
        "id": "HQTMDjhUb22z",
        "outputId": "32e98abe-e935-4641-e65e-598c6eb3a565"
      },
      "source": [
        "history = fit(num_epochs, lr, model, train_dl, val_dl, opt_func)"
      ],
      "execution_count": 62,
      "outputs": [
        {
          "output_type": "stream",
          "name": "stderr",
          "text": [
            "/usr/local/lib/python3.7/dist-packages/torch/utils/data/dataloader.py:481: UserWarning: This DataLoader will create 4 worker processes in total. Our suggested max number of worker in current system is 2, which is smaller than what this DataLoader is going to create. Please be aware that excessive worker creation might get DataLoader running slow or even freeze, lower the worker number to avoid potential slowness/freeze if necessary.\n",
            "  cpuset_checked))\n"
          ]
        },
        {
          "output_type": "stream",
          "name": "stdout",
          "text": [
            "Epoch [0], train_loss: 0.2531, val_loss: 0.1302\n",
            "Epoch [1], train_loss: 0.0867, val_loss: 0.0510\n",
            "Epoch [2], train_loss: 0.0449, val_loss: 0.0240\n",
            "Epoch [3], train_loss: 0.0237, val_loss: 0.0127\n",
            "Epoch [4], train_loss: 0.0136, val_loss: 0.0082\n"
          ]
        }
      ]
    },
    {
      "cell_type": "code",
      "metadata": {
        "id": "r9nmiS42b448"
      },
      "source": [
        "def plot_accuracies(history):\n",
        "    accuracies = [x['val_acc'] for x in history]\n",
        "    plt.plot(accuracies, '-x')\n",
        "    plt.xlabel('epoch')\n",
        "    plt.ylabel('accuracy')\n",
        "    plt.title('Accuracy vs. No. of epochs');"
      ],
      "execution_count": null,
      "outputs": []
    },
    {
      "cell_type": "code",
      "metadata": {
        "id": "dw6CqI0eb6WS"
      },
      "source": [
        "plot_accuracies(history)"
      ],
      "execution_count": null,
      "outputs": []
    },
    {
      "cell_type": "code",
      "metadata": {
        "id": "owWesSZpb8H4"
      },
      "source": [
        "def plot_losses(history):\n",
        "    train_losses = [x.get('train_loss') for x in history]\n",
        "    val_losses = [x['val_loss'] for x in history]\n",
        "    plt.plot(train_losses, '-bx')\n",
        "    plt.plot(val_losses, '-rx')\n",
        "    plt.xlabel('epoch')\n",
        "    plt.ylabel('loss')\n",
        "    plt.legend(['Training', 'Validation'])\n",
        "    plt.title('Loss vs. No. of epochs');"
      ],
      "execution_count": 64,
      "outputs": []
    },
    {
      "cell_type": "code",
      "metadata": {
        "colab": {
          "base_uri": "https://localhost:8080/",
          "height": 295
        },
        "id": "PB_VWVDbb9dB",
        "outputId": "296142c2-bac7-4297-bfbe-f1c5d4824e91"
      },
      "source": [
        "plot_losses(history)"
      ],
      "execution_count": 65,
      "outputs": [
        {
          "output_type": "display_data",
          "data": {
            "image/png": "[encoded data removed]",
            "text/plain": [
              "<Figure size 432x288 with 1 Axes>"
            ]
          },
          "metadata": {
            "needs_background": "light"
          }
        }
      ]
    },
    {
      "cell_type": "code",
      "metadata": {
        "id": "fBK3iMPiQkaB"
      },
      "source": [
        "import cv2\n",
        "from google.colab.patches import cv2_imshow\n",
        "\n",
        "def draw(path, points):\n",
        "  img = cv2.imread(path)\n",
        "  c_x, c_y = get_eye_pupil(path)\n",
        "  c_x, c_y = c_x*2, c_y*2\n",
        "  print(c_x, c_y)\n",
        "  x, y = points[0], points[1]\n",
        "  cv2.arrowedLine(img, (c_x, c_y), (c_x+x*80, c_y+y*80), (0, 255, 0), 2)\n",
        "  # cv2.circle(img, (c_x, c_y), 0, color=(0, 0, 255))\n",
        "\n",
        "  cv2_imshow(img)"
      ],
      "execution_count": 160,
      "outputs": []
    },
    {
      "cell_type": "code",
      "metadata": {
        "colab": {
          "base_uri": "https://localhost:8080/"
        },
        "id": "mgIqpwfCRIMK",
        "outputId": "be2548ef-ccd5-4e68-fca9-8500aab8c4b0"
      },
      "source": [
        "test_df = df[:5]\n",
        "test_ds = MyData(test_df, transforms)\n",
        "test_dl = DataLoader(test_ds, batch_size=8, num_workers=4)\n",
        "test_dl = DeviceDataLoader(test_dl, device)"
      ],
      "execution_count": 145,
      "outputs": [
        {
          "output_type": "stream",
          "name": "stderr",
          "text": [
            "/usr/local/lib/python3.7/dist-packages/torch/utils/data/dataloader.py:481: UserWarning: This DataLoader will create 4 worker processes in total. Our suggested max number of worker in current system is 2, which is smaller than what this DataLoader is going to create. Please be aware that excessive worker creation might get DataLoader running slow or even freeze, lower the worker number to avoid potential slowness/freeze if necessary.\n",
            "  cpuset_checked))\n"
          ]
        }
      ]
    },
    {
      "cell_type": "code",
      "metadata": {
        "colab": {
          "base_uri": "https://localhost:8080/",
          "height": 174
        },
        "id": "DzN9dyLqeArD",
        "outputId": "5436772d-7354-4863-c116-aae24cfb83b0"
      },
      "source": [
        "test_df"
      ],
      "execution_count": 130,
      "outputs": [
        {
          "output_type": "execute_result",
          "data": {
            "text/html": [
              "<div>\n",
              "<style scoped>\n",
              "    .dataframe tbody tr th:only-of-type {\n",
              "        vertical-align: middle;\n",
              "    }\n",
              "\n",
              "    .dataframe tbody tr th {\n",
              "        vertical-align: top;\n",
              "    }\n",
              "\n",
              "    .dataframe thead th {\n",
              "        text-align: right;\n",
              "    }\n",
              "</style>\n",
              "<table border=\"1\" class=\"dataframe\">\n",
              "  <thead>\n",
              "    <tr style=\"text-align: right;\">\n",
              "      <th></th>\n",
              "      <th>image_location</th>\n",
              "      <th>point1</th>\n",
              "      <th>point2</th>\n",
              "    </tr>\n",
              "  </thead>\n",
              "  <tbody>\n",
              "    <tr>\n",
              "      <th>530</th>\n",
              "      <td>data/364.jpg</td>\n",
              "      <td>-0.3352</td>\n",
              "      <td>-0.1653</td>\n",
              "    </tr>\n",
              "    <tr>\n",
              "      <th>531</th>\n",
              "      <td>data/1.jpg</td>\n",
              "      <td>0.2857</td>\n",
              "      <td>0.1601</td>\n",
              "    </tr>\n",
              "    <tr>\n",
              "      <th>532</th>\n",
              "      <td>data/117.jpg</td>\n",
              "      <td>0.7186</td>\n",
              "      <td>0.2866</td>\n",
              "    </tr>\n",
              "    <tr>\n",
              "      <th>533</th>\n",
              "      <td>data/1019.jpg</td>\n",
              "      <td>0.6031</td>\n",
              "      <td>-0.3718</td>\n",
              "    </tr>\n",
              "  </tbody>\n",
              "</table>\n",
              "</div>"
            ],
            "text/plain": [
              "    image_location  point1  point2\n",
              "530   data/364.jpg -0.3352 -0.1653\n",
              "531     data/1.jpg  0.2857  0.1601\n",
              "532   data/117.jpg  0.7186  0.2866\n",
              "533  data/1019.jpg  0.6031 -0.3718"
            ]
          },
          "metadata": {},
          "execution_count": 130
        }
      ]
    },
    {
      "cell_type": "code",
      "metadata": {
        "colab": {
          "base_uri": "https://localhost:8080/",
          "height": 630
        },
        "id": "y3PK3-ZKUwJR",
        "outputId": "b1f54d13-2253-49f5-f495-5bb95e51d8eb"
      },
      "source": [
        "for batch in test_dl:\n",
        "  imgs, label1, label2 = batch\n",
        "  outs = model(imgs)\n",
        "  print(outs)\n",
        "  inx = 0\n",
        "  draw(test_df['image_location'][inx], [outs['label1'][inx], outs['label2'][inx]])"
      ],
      "execution_count": 161,
      "outputs": [
        {
          "output_type": "stream",
          "name": "stderr",
          "text": [
            "/usr/local/lib/python3.7/dist-packages/torch/utils/data/dataloader.py:481: UserWarning: This DataLoader will create 4 worker processes in total. Our suggested max number of worker in current system is 2, which is smaller than what this DataLoader is going to create. Please be aware that excessive worker creation might get DataLoader running slow or even freeze, lower the worker number to avoid potential slowness/freeze if necessary.\n",
            "  cpuset_checked))\n"
          ]
        },
        {
          "output_type": "stream",
          "name": "stdout",
          "text": [
            "{'label1': tensor([-0.7984, -0.6988,  0.1184, -0.0113,  0.8291], device='cuda:0',\n",
            "       grad_fn=<SelectBackward0>), 'label2': tensor([ 3.5514e-02,  4.3105e-02,  6.5693e-05,  5.2467e-01, -1.6232e-01],\n",
            "       device='cuda:0', grad_fn=<SelectBackward0>)}\n",
            "(192, 256, 3) 2 2 0.0\n",
            "Ckecking...\n",
            "(192, 256, 3) 2 2 0.5\n",
            "Ckecking...\n",
            "(192, 256, 3) 15 21 200.0\n",
            "Ckecking...\n",
            "218 188\n"
          ]
        },
        {
          "output_type": "display_data",
          "data": {
            "image/png": "[encoded data removed]",
            "text/plain": [
              "<PIL.Image.Image image mode=RGB size=512x384 at 0x7FCAD0A78890>"
            ]
          },
          "metadata": {}
        }
      ]
    },
    {
      "cell_type": "code",
      "metadata": {
        "id": "SND4SVFybTGx"
      },
      "source": [
        "import cv2\n",
        "import math\n",
        "import numpy as np\n",
        "\n",
        "def get_eye_pupil(img_file):\n",
        "    img = cv2.imread(img_file)\n",
        "    scaling_factor = 0.5\n",
        "\n",
        "\n",
        "    img = cv2.resize(img, None, fx=scaling_factor, fy=scaling_factor, interpolation=cv2.INTER_AREA)\n",
        "    # cv2.imshow('Input', img)\n",
        "    gray = cv2.cvtColor(~img, cv2.COLOR_BGR2GRAY)\n",
        "\n",
        "    ret, thresh_gray = cv2.threshold(gray, 220, 255, cv2.THRESH_BINARY)\n",
        "    contours, hierarchy = cv2.findContours(thresh_gray, cv2.RETR_EXTERNAL, cv2.CHAIN_APPROX_NONE)\n",
        "    x, y, radius = None, None, None\n",
        "    for contour in contours:\n",
        "        area = cv2.contourArea(contour)\n",
        "        rect = cv2.boundingRect(contour)\n",
        "        x, y, width, height = rect\n",
        "        radius = 0.25 * (width + height)\n",
        "        print(img.shape, width, height, area)\n",
        "\n",
        "        area_condition = (100 <= area <= 225)\n",
        "        symmetry_condition = (abs(1 - float(width)/float(height)) <= 0.2)\n",
        "        fill_condition = (abs(1 - (area / (math.pi * math.pow(radius, 2.0)))) <= 0.3)\n",
        "\n",
        "        print(\"Ckecking...\")\n",
        "        if area_condition and symmetry_condition and fill_condition:\n",
        "            print(\"HERE\")\n",
        "            print(int(x + radius), int(y + radius))\n",
        "            cv2.circle(img, (int(x + radius), int(y + radius)), int(radius), color=(255, 0, 0))\n",
        "            cv2.circle(img, (int(x + radius), int(y + radius)), 0, color=(0, 0, 255))\n",
        "\n",
        "    return (int(x + radius), int(y + radius))\n",
        "    # cv2.namedWindow('Pupil Detector', cv2.WINDOW_KEEPRATIO)\n",
        "    # cv2.imshow('Pupil Detector', img)\n",
        "\n",
        "    # c = cv2.waitKey(0)\n",
        "    # cv2.destroyAllWindows()"
      ],
      "execution_count": 113,
      "outputs": []
    }
  ]
}